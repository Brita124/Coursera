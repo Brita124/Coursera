{
 "cells": [
  {
   "cell_type": "markdown",
   "id": "fd9e4b1a-582f-485d-92be-077edc39fc24",
   "metadata": {},
   "source": [
    "# Data Science Tools and Ecosystem"
   ]
  },
  {
   "cell_type": "markdown",
   "id": "17d3c899-e970-4a01-93c1-e6a372f403f0",
   "metadata": {
    "tags": []
   },
   "source": [
    "## In this notebook, Data Science Tools and Ecosystem are summarized."
   ]
  },
  {
   "cell_type": "markdown",
   "id": "62d2544b-1e2b-45f2-bad2-4171a9a5f982",
   "metadata": {},
   "source": [
    "### Some of the popular languages that Data Scienticts use are:"
   ]
  },
  {
   "cell_type": "code",
   "execution_count": 32,
   "id": "f4857b77-7105-4f41-a3a0-2eec7b7429c4",
   "metadata": {},
   "outputs": [],
   "source": [
    "my_list = [\"Python\", \"SQL\", \"R\"]\n"
   ]
  },
  {
   "cell_type": "code",
   "execution_count": 33,
   "id": "1681f96a-38d6-48bd-9fa0-a1ae67d794d3",
   "metadata": {},
   "outputs": [
    {
     "name": "stdout",
     "output_type": "stream",
     "text": [
      "1. Python\n",
      "2. SQL\n",
      "3. R\n"
     ]
    }
   ],
   "source": [
    "for index, item in enumerate(my_list, start = 1):\n",
    "    print(f\"{index}. {item}\")"
   ]
  },
  {
   "cell_type": "markdown",
   "id": "6fb3f4b8-d2f2-453d-b1af-4efae8a63357",
   "metadata": {},
   "source": [
    "### Some of the popular libraries that Data Scienctists use are:"
   ]
  },
  {
   "cell_type": "code",
   "execution_count": 34,
   "id": "05bb2e3b-267a-489a-a16f-a3897c019d7b",
   "metadata": {},
   "outputs": [],
   "source": [
    "ds_libraries = [\"Jupyter Notebook\", \"RStudio\", \"Spyder\"]"
   ]
  },
  {
   "cell_type": "code",
   "execution_count": 35,
   "id": "0e7d38b9-8476-435c-aa3f-0c9e9ae119e8",
   "metadata": {},
   "outputs": [
    {
     "name": "stdout",
     "output_type": "stream",
     "text": [
      "1. Jupyter Notebook\n",
      "2. RStudio\n",
      "3. Spyder\n"
     ]
    }
   ],
   "source": [
    "for index, item in enumerate(ds_libraries, start = 1):\n",
    "    print(f\"{index}. {item}\")"
   ]
  },
  {
   "cell_type": "code",
   "execution_count": 36,
   "id": "9b207670-fbbc-4ffc-8b8a-0764d60bb872",
   "metadata": {},
   "outputs": [],
   "source": [
    "header = \"Data Science Tools\"\n",
    "tools = [\"Jupyter Notebook\", \"RStudio\", \"Spyder\"]"
   ]
  },
  {
   "cell_type": "code",
   "execution_count": 37,
   "id": "1f26e986-18d5-40a8-bd65-953537966ca8",
   "metadata": {},
   "outputs": [
    {
     "name": "stdout",
     "output_type": "stream",
     "text": [
      "+---------------------+\n",
      "| Data Science Tools |\n",
      "+---------------------+\n",
      " | Jupyter Notebook |\n",
      " | RStudio |\n",
      " | Spyder |\n",
      "+---------------------+\n"
     ]
    }
   ],
   "source": [
    "print(f\"+{'-' * (len(header) + 3)}+\")\n",
    "print(f\"| {header} |\")\n",
    "print(f\"+{'-' * (len(header) + 3)}+\")\n",
    "\n",
    "for tool in tools:\n",
    "    print(f\" | {tool} |\")\n",
    "\n",
    "print(f\"+{'-' * (len(header) + 3)}+\")\n"
   ]
  },
  {
   "cell_type": "markdown",
   "id": "8888fd97-b309-41ef-a8d5-554ddd64797a",
   "metadata": {},
   "source": [
    "### Below are a few examples of evaluating arithmetic expressions in Python"
   ]
  },
  {
   "cell_type": "code",
   "execution_count": 38,
   "id": "057fed17-4d3d-4bec-9c10-9a59780a0657",
   "metadata": {},
   "outputs": [
    {
     "data": {
      "text/plain": [
       "17"
      ]
     },
     "execution_count": 38,
     "metadata": {},
     "output_type": "execute_result"
    }
   ],
   "source": [
    "# This is a simple arthmetic expression to multiply then add integers.   \n",
    "\n",
    "(3 * 4) + 5"
   ]
  },
  {
   "cell_type": "code",
   "execution_count": 39,
   "id": "05ae4a32-ec57-4387-a21d-0ad555bda40b",
   "metadata": {},
   "outputs": [
    {
     "name": "stdout",
     "output_type": "stream",
     "text": [
      "3.3333333333333335\n"
     ]
    }
   ],
   "source": [
    "# This will convert 200 minutes to hours by dividing by 60. \n",
    "\n",
    "minutes = 200\n",
    "hours = minutes / 60\n",
    "\n",
    "print(hours)"
   ]
  },
  {
   "cell_type": "markdown",
   "id": "cba0ede8-009d-48bd-9fca-c49dd21665e6",
   "metadata": {},
   "source": [
    "**Objectives:**\n",
    "\n",
    "- List popular languages in Data Science\n",
    "- List popular libraries for Data Science\n",
    "- Evaluating arithmetic expressions in Python\n",
    "\n"
   ]
  },
  {
   "cell_type": "markdown",
   "id": "0f2c3ea4-fe83-474f-a955-a4e5c5f12771",
   "metadata": {},
   "source": [
    "## Author:\n",
    "Brittany Smith"
   ]
  }
 ],
 "metadata": {
  "kernelspec": {
   "display_name": "Python 3 (ipykernel)",
   "language": "python",
   "name": "python3"
  },
  "language_info": {
   "codemirror_mode": {
    "name": "ipython",
    "version": 3
   },
   "file_extension": ".py",
   "mimetype": "text/x-python",
   "name": "python",
   "nbconvert_exporter": "python",
   "pygments_lexer": "ipython3",
   "version": "3.9.12"
  }
 },
 "nbformat": 4,
 "nbformat_minor": 5
}
